{
 "cells": [
  {
   "cell_type": "markdown",
   "metadata": {
    "slideshow": {
     "slide_type": "slide"
    }
   },
   "source": [
    "# <center> Hi, this is me, Hanum Kumala :)</center>\n",
    "<br/>\n",
    "<center>\n",
    "<img src=\"images/Hanum.png\" style=\"width: 150px\">\n",
    "</center> \n",
    "\n",
    "<br/>\n",
    "\n",
    "<center> Business Intelligence Analyst GO-JEK \n",
    "<br/> Develop data products, report, and dashboard analysis to provide data visibility to business users. Also Build Data Warehouse by transforming data to be consumed for analytical purposes.\n",
    "<br/><a href=\"https://www.linkedin.com/in/hanumkl/\">https://www.linkedin.com/in/hanumkl/</a>\n",
    "<br/><a href=\"https://github.com/hanumkl\">https://github.com/hanumkl</a>\n",
    "</center>\n",
    "\n"
   ]
  },
  {
   "cell_type": "markdown",
   "metadata": {
    "slideshow": {
     "slide_type": "slide"
    }
   },
   "source": [
    "# <center> First Chapter :D <center/>"
   ]
  },
  {
   "cell_type": "markdown",
   "metadata": {
    "slideshow": {
     "slide_type": "slide"
    }
   },
   "source": [
    "# Introduction to SQL\n",
    "\n",
    "Why do we need to learn SQL?\n",
    "\n",
    "Most of the world’s data live in databases, so learning how to access and unlock insights from these data is an essential skill to have if you want to pursue data analytics career.\n",
    "\n",
    "SQL, or ess-que-el, is the native language for interacting with databases and is designed exactly for this purpose. This course will give you a basic introduction to SQL. We hope you enjoy it!\n"
   ]
  },
  {
   "cell_type": "markdown",
   "metadata": {
    "slideshow": {
     "slide_type": "slide"
    }
   },
   "source": [
    "# Beginning your SQL Journey\n",
    "\n",
    "SQL, which stands for **Structured Query Language**, is a language for interacting with data stored in something called a relational database.\n",
    "\n",
    "You can think of a relational database as a collection of tables. A table is just a set of rows and columns, like a spreadsheet, which represents exactly one type of entity. For example, a table might represent employees in a company or purchases made, but not both.\n",
    "\n",
    "Each row, or record, of a table contains information about a single entity. For example, in a table representing employees, each row represents a single person. Each column, or field, of a table contains a single attribute for all rows in the table. For example, in a table representing employees, we might have a column containing first and last names for all employees.\n",
    "\n",
    "The table of employees might look something like this:\n",
    "\n",
    "\n",
    "id | name | age | nationality\n",
    "-- | ------ | ------ | ------ \n",
    "1 | Jessica | 22 | Ireland\n",
    "2 | Gabriel | 48 | France\n",
    "3 | Laura | 36 | USA\n",
    "\n",
    "<br/>\n",
    "<center> How many fields does the employees table above contain? </center>"
   ]
  },
  {
   "cell_type": "markdown",
   "metadata": {
    "slideshow": {
     "slide_type": "slide"
    }
   },
   "source": [
    "# SELECTing single columns\n",
    "\n",
    "While SQL can be used to create and modify databases, the focus of this course will be querying databases. \n",
    "**A query is a request for data from a database table** (or combination of tables). \n",
    "Querying is an essential skill for a data scientist, since the data you need for your analyses will often live in databases.\n",
    "\n",
    "In SQL, you can select data from a table using a SELECT statement. For example, the following query selects the name column from the people table:\n",
    "```\n",
    "    SELECT name \n",
    "    FROM people;\n",
    "```\n",
    "\n",
    "In this query, SELECT and FROM are called keywords. In SQL, keywords are not case-sensitive, which means you can write the same query as:\n",
    "\n",
    "```\n",
    "    select name\n",
    "    from people;\n",
    "```\n",
    "\n",
    "That said, it's good practice to make SQL keywords uppercase to distinguish them from other parts of your query, like column and table names.\n",
    "It's also good practice (but not necessary for the exercises in this course) to include a semicolon at the end of your query. This tells SQL where the end of your query is!\n"
   ]
  },
  {
   "cell_type": "markdown",
   "metadata": {
    "slideshow": {
     "slide_type": "slide"
    }
   },
   "source": [
    "### <center> Let's start to practice! Yay! :D <center/>\n",
    "\n",
    "#### We will do fun things :D\n",
    "\n",
    "1. Access https://bytescout.com/ from your browser\n",
    "2. Click *SQL*\n",
    "3. Choose *Choose SQL Trainer Online*\n",
    "4. Try to work on Q1-Q3 :D"
   ]
  },
  {
   "cell_type": "markdown",
   "metadata": {
    "slideshow": {
     "slide_type": "slide"
    }
   },
   "source": [
    "# SELECTing multiple columns\n",
    "\n",
    "Well done! Now you know how to select single columns.\n",
    "In the real world, you will often want to select multiple columns. \n",
    "\n",
    "#### Luckily, SQL makes this really easy. \n",
    "\n",
    "To select multiple columns from a table, simply separate the column names with commas!\n",
    "For example, this query selects two columns, name and birthdate, from the people table:\n",
    "\n",
    "```\n",
    "    SELECT name, birthdate\n",
    "    FROM people;\n",
    "```"
   ]
  },
  {
   "cell_type": "markdown",
   "metadata": {
    "slideshow": {
     "slide_type": "slide"
    }
   },
   "source": [
    "### <center> Continue to Q4 in bytescout.com :D <center/>"
   ]
  },
  {
   "cell_type": "markdown",
   "metadata": {
    "slideshow": {
     "slide_type": "slide"
    }
   },
   "source": [
    "# LIMITing rows\n",
    "\n",
    "Allright! Easy pals, we still have some other interesting things here\n",
    "\n",
    "Somehow, you may want to view only the first 5 records.\n",
    "\n",
    "You can do it by using LIMIT keyword\n",
    "\n",
    "```\n",
    "    SELECT * \n",
    "    FROM people\n",
    "    LIMIT 5;\n",
    "```\n"
   ]
  },
  {
   "cell_type": "markdown",
   "metadata": {
    "slideshow": {
     "slide_type": "slide"
    }
   },
   "source": [
    "# TOP Commands\n",
    "\n",
    "Although it's easy to use LIMIT, we have another command: TOP. \n",
    "Some databases use TOP keyword instead of LIMIT. \n",
    "\n",
    "It also limit number of records, but here we used the command in a bit different way:\n",
    "```\n",
    "    SELECT TOP 5 * \n",
    "    FROM people;\n",
    "```\n"
   ]
  },
  {
   "cell_type": "markdown",
   "metadata": {
    "slideshow": {
     "slide_type": "slide"
    }
   },
   "source": [
    "### <center> Practice Q5-Q6 in bytescout.com :D <center/>"
   ]
  },
  {
   "cell_type": "markdown",
   "metadata": {
    "slideshow": {
     "slide_type": "skip"
    }
   },
   "source": [
    "# SELECT DISTINCT\n",
    "\n",
    "Often your results will include many duplicate values. \n",
    "If you want to select all the unique values from a column, you can use the DISTINCT keyword.\n",
    "\n",
    "This might be useful if, for example, you're interested in knowing which languages are represented in the films table:\n",
    "```\n",
    "    SELECT DISTINCT language\n",
    "    FROM films;\n",
    "```"
   ]
  },
  {
   "cell_type": "markdown",
   "metadata": {
    "slideshow": {
     "slide_type": "skip"
    }
   },
   "source": [
    "# Learning to COUNT\n",
    "\n",
    "What if you want to count the number of employees in your employees table? \n",
    "The COUNT statement lets you do this by returning the number of rows in one or more columns.\n",
    "\n",
    "For example, this code gives the number of rows in the people table:\n",
    "```\n",
    "    SELECT COUNT(*)\n",
    "    FROM people;\n",
    "```"
   ]
  },
  {
   "cell_type": "markdown",
   "metadata": {
    "slideshow": {
     "slide_type": "skip"
    }
   },
   "source": [
    "# Practice with COUNT\n",
    "\n",
    "As you've seen, COUNT(*) tells you how many rows are in a table. \n",
    "However, if you want to count the number of non-missing values in a particular column, \n",
    "you can call COUNT on just that column.\n",
    "\n",
    "For example, to count the number of birth dates present in the peopletable:\n",
    "```\n",
    "    SELECT COUNT(birthdate)\n",
    "    FROM people;\n",
    "```\n",
    "\n",
    "It's also common to combine COUNT with DISTINCT to count the number of distinct values in a column.\n",
    "For example, this query counts the number of distinct birth dates contained in the people table:\n",
    "```\n",
    "    SELECT COUNT(DISTINCT birthdate)\n",
    "    FROM people;\n",
    "```"
   ]
  },
  {
   "cell_type": "markdown",
   "metadata": {},
   "source": [
    "# <center> Second Chapter!~ <center/>"
   ]
  },
  {
   "cell_type": "markdown",
   "metadata": {
    "slideshow": {
     "slide_type": "slide"
    }
   },
   "source": [
    "# Filtering results\n",
    "\n",
    "Congrats on finishing the first chapter! \n",
    "You now know how to select columns and perform basic counts. \n",
    "This chapter will focus on filtering your results.\n",
    "\n",
    "In SQL, the WHERE keyword allows you to filter based on both text and numeric values in a table. \n",
    "There are a few different comparison operators you can use:\n",
    "\n",
    "* '=' equal\n",
    "* '<>' not equal\n",
    "* '<' less than\n",
    "* '>' greater than\n",
    "* '<=' less than or equal to\n",
    "* '>=' greater than or equal to\n",
    "\n",
    "For example, you can filter text records such as title. \n",
    "The following code returns all films with the title 'Metropolis':\n",
    "```\n",
    "    SELECT title\n",
    "    FROM films\n",
    "    WHERE title = 'Metropolis';\n",
    "```\n"
   ]
  },
  {
   "cell_type": "markdown",
   "metadata": {
    "slideshow": {
     "slide_type": "slide"
    }
   },
   "source": [
    "# Filtering results (cont'd)\n",
    "\n",
    "Notice that the WHERE clause always comes after the FROM statement!\n",
    "**Note that in this course we will use <> and not != for the not equal operator, as per the SQL standard.**\n",
    "What does the following query return?\n",
    "```\n",
    "    SELECT title\n",
    "    FROM films\n",
    "    WHERE release_year > 2000;\n",
    "```"
   ]
  },
  {
   "cell_type": "markdown",
   "metadata": {
    "slideshow": {
     "slide_type": "skip"
    }
   },
   "source": [
    "# WHERE AND OR\n",
    "\n",
    "What if you want to select rows based on multiple conditions where some but not all of the conditions need to be met? For this, SQL has the OR operator.\n",
    "For example, the following returns all films released in either 1994 or 2000:\n",
    "```\n",
    "    SELECT title\n",
    "    FROM films\n",
    "    WHERE release_year = 1994\n",
    "    OR release_year = 2000;\n",
    "```\n",
    "Note that you need to specify the column for every OR condition, so the following is invalid:\n",
    "```\n",
    "    SELECT title\n",
    "    FROM films\n",
    "    WHERE release_year = 1994 OR 2000;\n",
    "```\n",
    "When combining AND and OR, be sure to enclose the individual clauses in parentheses, like so:\n",
    "```\n",
    "    SELECT title\n",
    "    FROM films\n",
    "    WHERE (release_year = 1994 OR release_year = 1995)\n",
    "    AND (certification = 'PG' OR certification = 'R');\n",
    "```\n",
    "Otherwise, due to SQL's precedence rules, you may not get the results you're expecting!\n",
    "\n",
    "\n",
    "What does the OR operator do?\n"
   ]
  },
  {
   "cell_type": "markdown",
   "metadata": {
    "slideshow": {
     "slide_type": "skip"
    }
   },
   "source": [
    "# WHERE AND OR (2)\n",
    "\n",
    "You now know how to select rows that meet some but not all conditions by combining AND and OR.\n",
    "For example, the following query selects all films that were released in 1994 or 1995 which had a rating of PG or R.\n",
    "\n",
    "        SELECT title\n",
    "        FROM films\n",
    "        WHERE (release_year = 1994 OR release_year = 1995)\n",
    "        AND (certification = 'PG' OR certification = 'R');\n",
    "\n",
    "Now you'll write a query to get the title and release year of films released in the 90s which were in French or Spanish and which took in more than $2M gross.\n",
    "It looks like a lot, but you can build the query up one step at a time to get comfortable with the underlying concept in each step. Let's go!\n"
   ]
  },
  {
   "cell_type": "markdown",
   "metadata": {
    "slideshow": {
     "slide_type": "slide"
    }
   },
   "source": [
    "# BETWEEN\n",
    "\n",
    "As you've learned, you can use the following query to get titles of all films released in and between 1994 and 2000:\n",
    "```\n",
    "    SELECT title\n",
    "    FROM films\n",
    "    WHERE release_year >= 1994\n",
    "    AND release_year <= 2000;\n",
    "```\n",
    "\n",
    "Checking for ranges like this is very common, so in SQL the BETWEEN keyword provides a useful shorthand for filtering values within a specified range. This query is equivalent to the one above:\n",
    "```\n",
    "    SELECT title\n",
    "    FROM films\n",
    "    WHERE release_year\n",
    "    BETWEEN 1994 AND 2000;\n",
    "```\n",
    "\n",
    "It's important to remember that BETWEEN is inclusive, meaning the beginning and end values are included in the results!\n",
    "\n",
    "\n",
    "What does the BETWEEN keyword do?\n"
   ]
  },
  {
   "cell_type": "markdown",
   "metadata": {
    "slideshow": {
     "slide_type": "skip"
    }
   },
   "source": [
    "# WHERE IN\n",
    "\n",
    "As you've seen, WHERE is very useful for filtering results. \n",
    "However, if you want to filter based on many conditions, WHERE can get unwieldy. For example:\n",
    "```\n",
    "    SELECT name\n",
    "    FROM kids\n",
    "    WHERE age = 2\n",
    "    OR age = 4\n",
    "    OR age = 6\n",
    "    OR age = 8\n",
    "    OR age = 10;\n",
    "```\n",
    "\n",
    "Enter the IN operator! The IN operator allows you to specify multiple values in a WHERE clause, making it easier and quicker to specify multiple OR conditions! Neat, right?\n",
    "So, the above example would become simply:\n",
    "```\n",
    "    SELECT name\n",
    "    FROM kids\n",
    "    WHERE age IN (2, 4, 6, 8, 10);\n",
    "```\n",
    "\n",
    "Try using the IN operator yourself!\n"
   ]
  },
  {
   "cell_type": "markdown",
   "metadata": {
    "slideshow": {
     "slide_type": "skip"
    }
   },
   "source": [
    "# Introduction to NULL and IS NULL\n",
    "\n",
    "In SQL, NULL represents a missing or unknown value. You can check for NULL values using the expression IS NULL. For example, to count the number of missing birth dates in the people table:\n",
    "```\n",
    "    SELECT COUNT(*)\n",
    "    FROM people\n",
    "    WHERE birthdate IS NULL;\n",
    "```\n",
    "As you can see, IS NULL is useful when combined with WHERE to figure out what data you're missing.\n",
    "Sometimes, you'll want to filter out missing values so you only get results which are not NULL. To do this, you can use the IS NOT NULL operator.\n",
    "For example, this query gives the names of all people whose birth dates are not missing in the people table.\n",
    "```\n",
    "    SELECT name\n",
    "    FROM people\n",
    "    WHERE birthdate IS NOT NULL;\n",
    "```\n",
    "What does NULL represent?"
   ]
  },
  {
   "cell_type": "markdown",
   "metadata": {
    "slideshow": {
     "slide_type": "slide"
    }
   },
   "source": [
    "# LIKE and NOT LIKE\n",
    "\n",
    "As you've seen, the WHERE clause can be used to filter text data. However, so far you've only been able to filter by specifying the exact text you're interested in. In the real world, often you'll want to search for a pattern rather than a specific text string.\n",
    "\n",
    "In SQL, the LIKE operator can be used in a WHERE clause to search for a pattern in a column. To accomplish this, you use something called a wildcard as a placeholder for some other values. There are two wildcards you can use with LIKE:\n",
    "The % wildcard will match zero, one, or many characters in text. For example, the following query matches companies like 'Data', 'DataC' 'DataCamp', 'DataMind', and so on:\n",
    "```\n",
    "    SELECT name\n",
    "    FROM companies\n",
    "    WHERE name LIKE 'Data%';\n",
    "```\n",
    "The _ wildcard will match a single character. For example, the following query matches companies like 'DataCamp', 'DataComp', and so on:\n",
    "```\n",
    "    SELECT name\n",
    "    FROM companies\n",
    "    WHERE name LIKE 'DataC_mp';\n",
    "```\n",
    "\n",
    "You can also use the NOT LIKE operator to find records that don't match the pattern you specify.\n",
    "Got it? Let's practice!\n"
   ]
  },
  {
   "cell_type": "markdown",
   "metadata": {
    "slideshow": {
     "slide_type": "slide"
    }
   },
   "source": [
    "### <center> Let's try Q7 in bytescout.com :D <center/>"
   ]
  },
  {
   "cell_type": "markdown",
   "metadata": {
    "slideshow": {
     "slide_type": "slide"
    }
   },
   "source": [
    "### <center> Yay~ We finish Simple SQL Queries Practice <center/>"
   ]
  },
  {
   "cell_type": "markdown",
   "metadata": {
    "slideshow": {
     "slide_type": "slide"
    }
   },
   "source": [
    "# <center> Third Chapter =D <center/>"
   ]
  },
  {
   "cell_type": "markdown",
   "metadata": {
    "slideshow": {
     "slide_type": "skip"
    }
   },
   "source": [
    "# Aggregate functions\n",
    "\n",
    "Often, you will want to perform some calculation on the data in a database. SQL provides a few functions, called aggregate functions, to help you out with this.\n",
    "For example,\n",
    "```\n",
    "    SELECT AVG(budget)\n",
    "    FROM films;\n",
    "```\n",
    "\n",
    "gives you the average value from the budget column of the filmstable. Similarly, the MAX function returns the highest budget:\n",
    "```\n",
    "    SELECT MAX(budget)\n",
    "    FROM films;\n",
    "```\n",
    "\n",
    "The SUM function returns the result of adding up the numeric values in a column:\n",
    "```\n",
    "    SELECT SUM(budget)\n",
    "    FROM films;\n",
    "```\n",
    "You can probably guess what the MIN function does! Now it's your turn to try out some SQL functions.\n"
   ]
  },
  {
   "cell_type": "markdown",
   "metadata": {
    "slideshow": {
     "slide_type": "skip"
    }
   },
   "source": [
    "# Combining aggregate functions with WHERE\n",
    "\n",
    "Aggregate functions can be combined with the WHERE clause to gain further insights from your data.\n",
    "For example, to get the total budget of movies made in the year 2010 or later:\n",
    "```\n",
    "    SELECT SUM(budget)\n",
    "    FROM films\n",
    "    WHERE release_year >= 2010;\n",
    "```\n",
    "Now it's your turn\n"
   ]
  },
  {
   "cell_type": "markdown",
   "metadata": {
    "slideshow": {
     "slide_type": "skip"
    }
   },
   "source": [
    "# A note on arithmetic\n",
    "\n",
    "In addition to using aggregate functions, you can perform basic arithmetic with symbols like +, -, *, and /.\n",
    "So, for example, this gives a result of 12:\n",
    "```\n",
    "    SELECT (4 * 3);\n",
    "```\n",
    "However, the following gives a result of 1:\n",
    "```\n",
    "    SELECT (4 / 3);\n",
    "```\n",
    "What's going on here?\n",
    "SQL assumes that if you divide an integer by an integer, you want to get an integer back. So be careful when dividing!\n",
    "If you want more precision when dividing, you can add decimal places to your numbers. For example,\n",
    "```\n",
    "    SELECT (4.0 / 3.0) AS result;\n",
    "```\n",
    "gives you the result you would expect: 1.333.\n",
    "What is the result of SELECT (10 / 3);?"
   ]
  },
  {
   "cell_type": "markdown",
   "metadata": {
    "slideshow": {
     "slide_type": "skip"
    }
   },
   "source": [
    "# It's AS simple AS aliasing\n",
    "You may have noticed in the first exercise of this chapter that the column name of your result was just the name of the function you used. For example,\n",
    "```\n",
    "    SELECT MAX(budget)\n",
    "    FROM films;\n",
    "```\n",
    "gives you a result with one column, named max. But what if you use two functions like this?\n",
    "```\n",
    "    SELECT MAX(budget), MAX(duration)\n",
    "    FROM films;\n",
    "```\n",
    "Well, then you'd have two columns named max, which isn't very useful!\n",
    "To avoid situations like this, SQL allows you to do something called aliasing. Aliasing simply means you assign a temporary name to something. To alias, you use the AS keyword, which you've already seen earlier in this course.\n",
    "For example, in the above example we could use aliases to make the result clearer:\n",
    "```\n",
    "    SELECT MAX(budget) AS max_budget,\n",
    "           MAX(duration) AS max_duration\n",
    "    FROM films;\n",
    "```\n",
    "Aliases are helpful for making results more readable!\n"
   ]
  },
  {
   "cell_type": "markdown",
   "metadata": {
    "slideshow": {
     "slide_type": "skip"
    }
   },
   "source": [
    "# Even more aliasing\n",
    "Let's practice your newfound aliasing skills some more before moving on!\n",
    "Recall: SQL assumes that if you divide an integer by an integer, you want to get an integer back.\n",
    "This means that the following will erroneously result in 400.0:\n",
    "```\n",
    "    SELECT 45 / 10 * 100.0;\n",
    "```\n",
    "This is because 45 / 10 evaluates to an integer (4), and not a decimal number like we would expect.\n",
    "So when you're dividing make sure at least one of your numbers has a decimal place:\n",
    "```\n",
    "    SELECT 45 * 100.0 / 10;\n",
    "```\n",
    "The above now gives the correct answer of 450.0 since the numerator (45 * 100.0) of the division is now a decimal!\n"
   ]
  },
  {
   "cell_type": "markdown",
   "metadata": {
    "slideshow": {
     "slide_type": "slide"
    }
   },
   "source": [
    "# ORDER BY\n",
    "\n",
    "Congratulations on making it this far! You now know how to select and filter your results.\n",
    "In this chapter you'll learn how to sort and group your results to gain further insight. Let's go!\n",
    "In SQL, the ORDER BY keyword is used to sort results in ascending or descending order according to the values of one or more columns.\n",
    "By default ORDER BY will sort in ascending order. If you want to sort the results in descending order, you can use the DESC keyword. For example,\n",
    "```\n",
    "    SELECT title\n",
    "    FROM films\n",
    "    ORDER BY release_year DESC;\n",
    "```\n",
    "gives you the titles of films sorted by release year, from newest to oldest.\n",
    "\n",
    "How do you think ORDER BY sorts a column of text values by default?\n"
   ]
  },
  {
   "cell_type": "markdown",
   "metadata": {
    "slideshow": {
     "slide_type": "slide"
    }
   },
   "source": [
    "# Sorting single columns (DESC)\n",
    "To order results in descending order, you can put the keyword DESC after your ORDER BY. \n",
    "For example, to get all the names in the people table, in reverse alphabetical order:\n",
    "```\n",
    "    SELECT name\n",
    "    FROM people\n",
    "    ORDER BY name DESC;\n",
    "```\n",
    "Now practice using ORDER BY with DESC to sort single columns in descending order!"
   ]
  },
  {
   "cell_type": "markdown",
   "metadata": {
    "slideshow": {
     "slide_type": "slide"
    }
   },
   "source": [
    "# Sorting multiple columns\n",
    "ORDER BY can also be used to sort on multiple columns. \n",
    "It will sort by the first column specified, then sort by the next, then the next, and so on. For example,\n",
    "```\n",
    "    SELECT birthdate, name\n",
    "    FROM people\n",
    "    ORDER BY birthdate, name;\n",
    "```\n",
    "sorts on birth dates first (oldest to newest) and then sorts on the names in alphabetical order. The order of columns is important!\n",
    "\n",
    "Try using ORDER BY to sort multiple columns! Remember, to specify multiple columns you separate the column names with a comma."
   ]
  },
  {
   "cell_type": "markdown",
   "metadata": {
    "slideshow": {
     "slide_type": "skip"
    }
   },
   "source": [
    "# GROUP BY\n",
    "\n",
    "Now you know how to sort results! Often you'll need to aggregate results. For example, you might want to count the number of male and female employees in your company. Here, what you want is to group all the males together and count them, and group all the females together and count them. In SQL, GROUP BY allows you to group a result by one or more columns, like so:\n",
    "```\n",
    "    SELECT sex, count(*)\n",
    "    FROM employees\n",
    "    GROUP BY sex;\n",
    "```\n",
    "This might give, for example:\n",
    "\n",
    "sex | count \n",
    "---- | ------ \n",
    "male | 15 \n",
    "female | 19\n",
    "\n",
    "Commonly, GROUP BY is used with aggregate functions like COUNT() or MAX(). \n",
    "Note that GROUP BY always goes after the FROM clause!\n",
    "What is GROUP BY used for?"
   ]
  },
  {
   "cell_type": "markdown",
   "metadata": {
    "slideshow": {
     "slide_type": "skip"
    }
   },
   "source": [
    "# GROUP BY practice\n",
    "As you've just seen, combining aggregate functions with GROUP BY can yield some powerful results!\n",
    "A word of warning: SQL will return an error if you try to SELECT a field that is not in your GROUP BY clause without using it to calculate some kind of value about the entire group.\n",
    "Note that you can combine GROUP BY with ORDER BY to group your results, calculate something about them, and then order your results. For example,\n",
    "```\n",
    "    SELECT sex, count(*)\n",
    "    FROM employees\n",
    "    GROUP BY sex\n",
    "    ORDER BY count DESC;\n",
    "```\n",
    "might return something like\n",
    "\n",
    "sex | count \n",
    "---- | ------ \n",
    "female | 19 \n",
    "male | 15\n",
    "\n",
    "\n",
    "because there are more females at our company than males. N\n",
    "ote also that ORDER BY always goes after GROUP BY. Let's try some exercises!\n"
   ]
  },
  {
   "cell_type": "markdown",
   "metadata": {
    "slideshow": {
     "slide_type": "skip"
    }
   },
   "source": [
    "# HAVING a great time\n",
    "\n",
    "In SQL, aggregate functions can't be used in WHERE clauses. For example, the following query is invalid:\n",
    "```\n",
    "    SELECT release_year\n",
    "    FROM films\n",
    "    GROUP BY release_year\n",
    "    WHERE COUNT(title) > 10;\n",
    "```\n",
    "This means that if you want to filter based on the result of an aggregate function, you need another way! That's where the HAVING clause comes in. For example,\n",
    "```\n",
    "    SELECT release_year\n",
    "    FROM films\n",
    "    GROUP BY release_year\n",
    "    HAVING COUNT(title) > 10;\n",
    "```\n",
    "shows only those years in which more than 10 films were released.\n",
    "\n",
    "In how many different years were more than 200 movies released?\n"
   ]
  },
  {
   "cell_type": "markdown",
   "metadata": {
    "slideshow": {
     "slide_type": "skip"
    }
   },
   "source": [
    "# All together now\n",
    "\n",
    "Time to practice using ```ORDER BY```, ```GROUP BY``` and ```HAVING``` together.\n",
    "Now you're going to write a query that returns the average budget and average gross earnings for films in each year after 1990, if the average budget is greater than $60 million.\n",
    "\n",
    "This is going to be a big query, but you can handle it!\n"
   ]
  },
  {
   "cell_type": "markdown",
   "metadata": {
    "slideshow": {
     "slide_type": "skip"
    }
   },
   "source": [
    "# A taste of things to come\n",
    "\n",
    "Congrats on making it to the end of the course! By now you should have a good understanding of the basics of SQL.\n",
    "There's one more concept we're going to introduce. You may have noticed that all your results so far have been from just one table, e.g. films or people.\n",
    "In the real world however, you will often want to query multiple tables. For example, what if you want to see the IMDB score for a particular movie?\n",
    "In this case, you'd want to get the ID of the movie from the films table and then use it to get IMDB information from the reviews table. In SQL, this concept is known as a join, and a basic join is shown in the editor to the right.\n",
    "The query in the editor gets the IMDB score for the film To Kill a Mockingbird! Cool right?\n",
    "As you can see, joins are incredibly useful and important to understand for anyone using SQL.\n",
    "We have a whole follow-up course dedicated to them called Joining Data in PostgreSQL for you to hone your database skills further!\n"
   ]
  }
 ],
 "metadata": {
  "celltoolbar": "Slideshow",
  "kernelspec": {
   "display_name": "Python 3",
   "language": "python",
   "name": "python3"
  },
  "language_info": {
   "codemirror_mode": {
    "name": "ipython",
    "version": 3
   },
   "file_extension": ".py",
   "mimetype": "text/x-python",
   "name": "python",
   "nbconvert_exporter": "python",
   "pygments_lexer": "ipython3",
   "version": "3.7.3"
  }
 },
 "nbformat": 4,
 "nbformat_minor": 2
}
